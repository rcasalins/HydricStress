{
 "cells": [
  {
   "cell_type": "code",
   "execution_count": 1,
   "id": "4f788b2c-c3a3-4fd2-a9e5-c4476911d916",
   "metadata": {},
   "outputs": [],
   "source": [
    "import cv2\n",
    "\n",
    "class videoToFrame:\n",
    "    def __init__(self,video_path: str, file_path | None = None):\n",
    "        self.video = video_path\n",
    "        self.file = file_path\n",
    "        \n",
    "        newpath = r'Data/' \n",
    "        \n",
    "        if file_path:\n",
    "            if not os.path.exists(newpath):\n",
    "                os.makedirs(newpath)\n",
    "    \n",
    "    def frame(self):\n",
    "        capture = cv2.VideoCapture(self.video)\n",
    "        count = 0\n",
    "        \n",
    "        while (capture.isOpened()):\n",
    "            ret, frame = capture.read()\n",
    "            if (ret == True):\n",
    "                cv2.imwrite(self.file + 'IMG_%04d.png' % count, frame)\n",
    "                count += 1\n",
    "            else:\n",
    "                break\n",
    "                \n",
    "        print(count)\n",
    "                    \n",
    "        capture.release()\n",
    "        cv2.destroyAllWindows()"
   ]
  },
  {
   "cell_type": "code",
   "execution_count": 4,
   "id": "6b51954d-67fa-455d-b8a3-8c12d560da5b",
   "metadata": {},
   "outputs": [
    {
     "name": "stdout",
     "output_type": "stream",
     "text": [
      "2022\n"
     ]
    }
   ],
   "source": [
    "video_path = 'DVD_181424_0.mpg'\n",
    "file = 'prueba/'\n",
    "videoToFrame(video_path, 'ex/').frame()"
   ]
  },
  {
   "cell_type": "code",
   "execution_count": 6,
   "id": "5d3874a8-2a1d-49d8-a3aa-bbaf9bc40b20",
   "metadata": {},
   "outputs": [],
   "source": [
    "import os\n",
    "newpath = r'Data/' \n",
    "if not os.path.exists(newpath):\n",
    "    os.makedirs(newpath)"
   ]
  }
 ],
 "metadata": {
  "kernelspec": {
   "display_name": "Python 3 (ipykernel)",
   "language": "python",
   "name": "python3"
  },
  "language_info": {
   "codemirror_mode": {
    "name": "ipython",
    "version": 3
   },
   "file_extension": ".py",
   "mimetype": "text/x-python",
   "name": "python",
   "nbconvert_exporter": "python",
   "pygments_lexer": "ipython3",
   "version": "3.10.9"
  }
 },
 "nbformat": 4,
 "nbformat_minor": 5
}
